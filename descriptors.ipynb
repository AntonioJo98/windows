{
 "cells": [
  {
   "cell_type": "code",
   "execution_count": 9,
   "metadata": {},
   "outputs": [
    {
     "name": "stderr",
     "output_type": "stream",
     "text": [
      "/tmp/ipykernel_1675491/879607095.py:2: DeprecationWarning: \n",
      "Pyarrow will become a required dependency of pandas in the next major release of pandas (pandas 3.0),\n",
      "(to allow more performant data types, such as the Arrow string type, and better interoperability with other libraries)\n",
      "but was not found to be installed on your system.\n",
      "If this would cause problems for you,\n",
      "please provide us feedback at https://github.com/pandas-dev/pandas/issues/54466\n",
      "        \n",
      "  import pandas as pd\n"
     ]
    }
   ],
   "source": [
    "import os\n",
    "import pandas as pd\n",
    "from tqdm import tqdm\n",
    "from rdkit import Chem\n",
    "from rdkit.Chem import Descriptors, rdMolDescriptors\n",
    "\n"
   ]
  },
  {
   "cell_type": "markdown",
   "metadata": {},
   "source": [
    "RDF (Radial Distribution Function): RDF descriptors capture information about the distribution of atoms or molecular fragments around a central atom or point in a molecule. They provide insights into the molecular shape and connectivity."
   ]
  },
  {
   "cell_type": "code",
   "execution_count": null,
   "metadata": {},
   "outputs": [],
   "source": [
    "# Path to the folder containing your SDF files\n",
    "folder_path = \"/home/antonio98/Desktop/Projeto_em_Bioquímica/Training_set\"\n",
    "\n",
    "# Output file to save the calculated RDF descriptors\n",
    "output_file = \"/home/antonio98/Desktop/Projeto_em_Bioquímica/rdf_descriptors.csv\"\n",
    "\n",
    "# Open the output file in write mode\n",
    "with open(output_file, 'w') as f:\n",
    "    # Write the header containing column names\n",
    "    f.write(\"File,RDF\\n\")\n",
    "    \n",
    "    # Iterate over each SDF file in the folder\n",
    "    for file_name in tqdm(os.listdir(folder_path), desc=\"Calculating RDF\"):\n",
    "        if file_name.endswith(\".sdf\"):\n",
    "            file_path = os.path.join(folder_path, file_name)\n",
    "            \n",
    "            # Read the SDF file and retrieve the molecule\n",
    "            suppl = Chem.SDMolSupplier(file_path)\n",
    "            mol = suppl[0]  # Assuming there is only one molecule in each SDF file\n",
    "            \n",
    "            # Calculate RDF descriptors\n",
    "            rdf_descriptors = rdMolDescriptors.CalcRDF(mol)\n",
    "            \n",
    "            # Remove the \".sdf\" extension from the file name\n",
    "            file_number = file_name.split(\"_\")[-1].split(\".\")[0]\n",
    "            \n",
    "            # Write the file number and RDF descriptor value to the output file\n",
    "            f.write(f\"{file_number},{rdf_descriptors}\\n\")"
   ]
  },
  {
   "cell_type": "markdown",
   "metadata": {},
   "source": [
    "Morse: Morse descriptors are based on the Morse potential, which describes the interaction between atoms in a molecule. These descriptors capture information about bond energies, bond lengths, and atomic interactions."
   ]
  },
  {
   "cell_type": "code",
   "execution_count": 2,
   "metadata": {},
   "outputs": [
    {
     "name": "stderr",
     "output_type": "stream",
     "text": [
      "Calculating Morse:  66%|██████▌   | 89507/136594 [03:31<01:22, 569.31it/s][14:52:18] WARNING: not removing hydrogen atom with neighbor that has non-tetrahedral stereochemistry\n",
      "Calculating Morse:  67%|██████▋   | 91526/136594 [03:35<01:17, 581.85it/s][14:52:21] WARNING: not removing hydrogen atom with neighbor that has non-tetrahedral stereochemistry\n",
      "Calculating Morse:  91%|█████████ | 124079/136594 [05:04<00:36, 339.71it/s][14:53:51] WARNING: not removing hydrogen atom with neighbor that has non-tetrahedral stereochemistry\n",
      "Calculating Morse: 100%|██████████| 136594/136594 [05:40<00:00, 401.04it/s]\n"
     ]
    }
   ],
   "source": [
    "# Path to the folder containing your SDF files\n",
    "folder_path = \"/home/antonio98/Desktop/Projeto_em_Bioquímica/Training_set\"\n",
    "\n",
    "# Output file to save the calculated Morse descriptors\n",
    "output_file = \"/home/antonio98/Desktop/Projeto_em_Bioquímica/morse_descriptors.csv\"\n",
    "\n",
    "# Open the output file in write mode\n",
    "with open(output_file, 'w') as f:\n",
    "    # Write the header containing column names\n",
    "    f.write(\"File,Morse\\n\")\n",
    "    \n",
    "    # Iterate over each SDF file in the folder\n",
    "    for file_name in tqdm(os.listdir(folder_path), desc=\"Calculating Morse\"):\n",
    "        if file_name.endswith(\".sdf\"):\n",
    "            file_path = os.path.join(folder_path, file_name)\n",
    "            \n",
    "            # Read the SDF file and retrieve the molecule\n",
    "            suppl = Chem.SDMolSupplier(file_path)\n",
    "            mol = suppl[0]  # Assuming there is only one molecule in each SDF file\n",
    "            \n",
    "            # Calculate Morse descriptors\n",
    "            morse_descriptors = rdMolDescriptors.CalcMORSE(mol)\n",
    "            \n",
    "            # Extract the number from the file name\n",
    "            file_number = file_name.split(\"_\")[-1].split(\".\")[0]\n",
    "            \n",
    "            # Write the file number and Morse descriptor value to the output file\n",
    "            f.write(f\"{file_number},{morse_descriptors}\\n\")"
   ]
  },
  {
   "cell_type": "markdown",
   "metadata": {},
   "source": [
    "WHIM (Weighted Holistic Invariant Molecular): WHIM descriptors are holistic descriptors that encode information about the 3D structure, shape, and symmetry of a molecule. They are derived from the eigenvalues of a weighted matrix representing the molecule's geometry."
   ]
  },
  {
   "cell_type": "code",
   "execution_count": null,
   "metadata": {},
   "outputs": [],
   "source": [
    "# Path to the folder containing your SDF files\n",
    "folder_path = \"/home/antonio98/Desktop/Projeto_em_Bioquímica/Training_set\"\n",
    "\n",
    "# Output file to save the calculated WHIM descriptors\n",
    "output_file = \"/home/antonio98/Desktop/Projeto_em_Bioquímica/whim_descriptors.csv\"\n",
    "\n",
    "# Open the output file in write mode\n",
    "with open(output_file, 'w') as f:\n",
    "    # Write the header containing column names\n",
    "    f.write(\"File,WHIM\\n\")\n",
    "    \n",
    "    # Iterate over each SDF file in the folder\n",
    "    for file_name in tqdm(os.listdir(folder_path), desc=\"Calculating WHIM\"):\n",
    "        if file_name.endswith(\".sdf\"):\n",
    "            file_path = os.path.join(folder_path, file_name)\n",
    "            \n",
    "            # Read the SDF file and retrieve the molecule\n",
    "            suppl = Chem.SDMolSupplier(file_path)\n",
    "            mol = suppl[0]  # Assuming there is only one molecule in each SDF file\n",
    "            \n",
    "            # Calculate WHIM descriptors\n",
    "            whim_descriptors = rdMolDescriptors.CalcWHIM(mol)\n",
    "            \n",
    "            # Extract the number from the file name\n",
    "            file_number = file_name.split(\"_\")[-1].split(\".\")[0]\n",
    "            \n",
    "            # Write the file number and WHIM descriptor values to the output file\n",
    "            f.write(f\"{file_number},{whim_descriptors}\\n\")"
   ]
  },
  {
   "cell_type": "markdown",
   "metadata": {},
   "source": [
    "Autocorr3D (3D Autocorrelation): Autocorr3D descriptors quantify the spatial arrangement of atoms or molecular properties in three dimensions. They provide information about spatial patterns and local environments within a molecule."
   ]
  },
  {
   "cell_type": "code",
   "execution_count": 3,
   "metadata": {},
   "outputs": [
    {
     "name": "stderr",
     "output_type": "stream",
     "text": [
      "Calculating Autocorr3D:  66%|██████▌   | 89479/136594 [02:40<00:57, 822.52it/s] [15:00:06] WARNING: not removing hydrogen atom with neighbor that has non-tetrahedral stereochemistry\n",
      "Calculating Autocorr3D:  67%|██████▋   | 91543/136594 [02:42<01:00, 743.41it/s][15:00:09] WARNING: not removing hydrogen atom with neighbor that has non-tetrahedral stereochemistry\n",
      "Calculating Autocorr3D:  91%|█████████ | 124084/136594 [04:02<00:42, 296.40it/s][15:01:29] WARNING: not removing hydrogen atom with neighbor that has non-tetrahedral stereochemistry\n",
      "Calculating Autocorr3D: 100%|██████████| 136594/136594 [04:41<00:00, 485.95it/s]\n"
     ]
    }
   ],
   "source": [
    "folder_path = \"/home/antonio98/Desktop/Projeto_em_Bioquímica/Training_set\"\n",
    "\n",
    "# Output file to save the calculated Autocorr3D descriptors\n",
    "output_file = \"/home/antonio98/Desktop/Projeto_em_Bioquímica/autocorr3d_descriptors.csv\"\n",
    "\n",
    "# Open the output file in write mode\n",
    "with open(output_file, 'w') as f:\n",
    "    # Write the header containing column names\n",
    "    f.write(\"File,Autocorr3D\\n\")\n",
    "    \n",
    "    # Iterate over each SDF file in the folder\n",
    "    for file_name in tqdm(os.listdir(folder_path), desc=\"Calculating Autocorr3D\"):\n",
    "        if file_name.endswith(\".sdf\"):\n",
    "            file_path = os.path.join(folder_path, file_name)\n",
    "            \n",
    "            # Read the SDF file and retrieve the molecule\n",
    "            suppl = Chem.SDMolSupplier(file_path)\n",
    "            mol = suppl[0]  # Assuming there is only one molecule in each SDF file\n",
    "            \n",
    "            # Calculate Autocorr3D descriptors\n",
    "            autocorr3d_descriptors = rdMolDescriptors.CalcAUTOCORR3D(mol)\n",
    "            \n",
    "            # Extract the number from the file name\n",
    "            file_number = file_name.split(\"_\")[-1].split(\".\")[0]\n",
    "            \n",
    "            # Write the file number and Autocorr3D descriptor values to the output file\n",
    "            f.write(f\"{file_number},{autocorr3d_descriptors}\\n\")"
   ]
  },
  {
   "cell_type": "markdown",
   "metadata": {},
   "source": [
    "GETAWAY (Geometrical Maximum Autocorrelation): GETAWAY descriptors capture geometric and topological information about a molecule's structure. They are derived from autocorrelation matrices and provide insights into molecular shape and connectivity."
   ]
  },
  {
   "cell_type": "code",
   "execution_count": 5,
   "metadata": {},
   "outputs": [
    {
     "name": "stderr",
     "output_type": "stream",
     "text": [
      "Calculating GETAWAY:  66%|██████▌   | 89527/136594 [08:01<04:38, 169.06it/s][15:21:02] WARNING: not removing hydrogen atom with neighbor that has non-tetrahedral stereochemistry\n",
      "Calculating GETAWAY:  67%|██████▋   | 91568/136594 [08:11<03:21, 223.27it/s][15:21:13] WARNING: not removing hydrogen atom with neighbor that has non-tetrahedral stereochemistry\n",
      "Calculating GETAWAY:  91%|█████████ | 124110/136594 [10:52<00:57, 216.45it/s][15:23:53] WARNING: not removing hydrogen atom with neighbor that has non-tetrahedral stereochemistry\n",
      "Calculating GETAWAY: 100%|██████████| 136594/136594 [11:56<00:00, 190.70it/s]\n"
     ]
    }
   ],
   "source": [
    "folder_path = \"/home/antonio98/Desktop/Projeto_em_Bioquímica/Training_set\"\n",
    "\n",
    "# Output file to save the calculated GETAWAY descriptors\n",
    "output_file = \"/home/antonio98/Desktop/Projeto_em_Bioquímica/getaway_descriptors.csv\"\n",
    "\n",
    "# Open the output file in write mode\n",
    "with open(output_file, 'w') as f:\n",
    "    # Write the header containing column names\n",
    "    f.write(\"File,GETAWAY\\n\")\n",
    "    \n",
    "    # Iterate over each SDF file in the folder\n",
    "    for file_name in tqdm(os.listdir(folder_path), desc=\"Calculating GETAWAY\"):\n",
    "        if file_name.endswith(\".sdf\"):\n",
    "            file_path = os.path.join(folder_path, file_name)\n",
    "            \n",
    "            # Read the SDF file and retrieve the molecule\n",
    "            suppl = Chem.SDMolSupplier(file_path)\n",
    "            mol = suppl[0]  # Assuming there is only one molecule in each SDF file\n",
    "            \n",
    "            # Calculate GETAWAY descriptors\n",
    "            getaway_descriptors = rdMolDescriptors.CalcGETAWAY(mol)\n",
    "            \n",
    "            # Extract the number from the file name\n",
    "            file_number = file_name.split(\"_\")[-1].split(\".\")[0]\n",
    "            \n",
    "            # Write the file number and GETAWAY descriptor values to the output file\n",
    "            f.write(f\"{file_number},{getaway_descriptors}\\n\")\n"
   ]
  },
  {
   "cell_type": "markdown",
   "metadata": {},
   "source": [
    "PEOE (Partial Equalization of Orbital Electronegativity): PEOE descriptors are based on the concept of equalizing orbital electronegativity in a molecule. They capture information about charge distribution, electronegativity, and polarizability."
   ]
  },
  {
   "cell_type": "code",
   "execution_count": 6,
   "metadata": {},
   "outputs": [
    {
     "name": "stderr",
     "output_type": "stream",
     "text": [
      "Calculating PEOE:  66%|██████▌   | 89512/136594 [05:29<02:43, 287.69it/s][15:37:48] WARNING: not removing hydrogen atom with neighbor that has non-tetrahedral stereochemistry\n",
      "Calculating PEOE:  67%|██████▋   | 91573/136594 [05:37<05:05, 147.51it/s][15:37:57] WARNING: not removing hydrogen atom with neighbor that has non-tetrahedral stereochemistry\n",
      "Calculating PEOE:  91%|█████████ | 124083/136594 [07:43<00:47, 262.42it/s][15:40:02] WARNING: not removing hydrogen atom with neighbor that has non-tetrahedral stereochemistry\n",
      "Calculating PEOE: 100%|██████████| 136594/136594 [08:37<00:00, 263.97it/s]\n"
     ]
    }
   ],
   "source": [
    "folder_path = \"/home/antonio98/Desktop/Projeto_em_Bioquímica/Training_set\"\n",
    "\n",
    "# Output file to save the calculated PEOE descriptors\n",
    "output_file = \"/home/antonio98/Desktop/Projeto_em_Bioquímica/peoe_descriptors.csv\"\n",
    "\n",
    "# Open the output file in write mode\n",
    "with open(output_file, 'w') as f:\n",
    "    # Write the header containing column names\n",
    "    f.write(\"File,PEOE\\n\")\n",
    "    \n",
    "    # Iterate over each SDF file in the folder\n",
    "    for file_name in tqdm(os.listdir(folder_path), desc=\"Calculating PEOE\"):\n",
    "        if file_name.endswith(\".sdf\"):\n",
    "            file_path = os.path.join(folder_path, file_name)\n",
    "            \n",
    "            # Read the SDF file and retrieve the molecule\n",
    "            suppl = Chem.SDMolSupplier(file_path)\n",
    "            mol = suppl[0]  # Assuming there is only one molecule in each SDF file\n",
    "            \n",
    "            # Calculate PEOE descriptors\n",
    "            peoe_descriptors = rdMolDescriptors.PEOE_VSA_(mol)\n",
    "            \n",
    "            # Extract the number from the file name\n",
    "            file_number = file_name.split(\"_\")[-1].split(\".\")[0]\n",
    "            \n",
    "            # Write the file number and PEOE descriptor values to the output file\n",
    "            f.write(f\"{file_number},{peoe_descriptors}\\n\")"
   ]
  },
  {
   "cell_type": "markdown",
   "metadata": {},
   "source": [
    "SMR (Surface Molecular Representation): SMR descriptors quantify the molecular surface area and volume of a molecule. They provide information about molecular size, shape, and surface properties."
   ]
  },
  {
   "cell_type": "code",
   "execution_count": 7,
   "metadata": {},
   "outputs": [
    {
     "name": "stderr",
     "output_type": "stream",
     "text": [
      "Calculating SMR:  66%|██████▌   | 89533/136594 [09:36<04:16, 183.69it/s][15:52:11] WARNING: not removing hydrogen atom with neighbor that has non-tetrahedral stereochemistry\n",
      "Calculating SMR:  67%|██████▋   | 91567/136594 [09:49<03:36, 207.89it/s][15:52:24] WARNING: not removing hydrogen atom with neighbor that has non-tetrahedral stereochemistry\n",
      "Calculating SMR:  91%|█████████ | 124092/136594 [13:02<01:18, 159.47it/s][15:55:37] WARNING: not removing hydrogen atom with neighbor that has non-tetrahedral stereochemistry\n",
      "Calculating SMR: 100%|██████████| 136594/136594 [14:09<00:00, 160.85it/s]\n"
     ]
    }
   ],
   "source": [
    "folder_path = \"/home/antonio98/Desktop/Projeto_em_Bioquímica/Training_set\"\n",
    "\n",
    "# Output file to save the calculated SMR descriptors\n",
    "output_file = \"/home/antonio98/Desktop/Projeto_em_Bioquímica/smr_descriptors.csv\"\n",
    "\n",
    "# Open the output file in write mode\n",
    "with open(output_file, 'w') as f:\n",
    "    # Write the header containing column names\n",
    "    f.write(\"File,SMR\\n\")\n",
    "    \n",
    "    # Iterate over each SDF file in the folder\n",
    "    for file_name in tqdm(os.listdir(folder_path), desc=\"Calculating SMR\"):\n",
    "        if file_name.endswith(\".sdf\"):\n",
    "            file_path = os.path.join(folder_path, file_name)\n",
    "            \n",
    "            # Read the SDF file and retrieve the molecule\n",
    "            suppl = Chem.SDMolSupplier(file_path)\n",
    "            mol = suppl[0]  # Assuming there is only one molecule in each SDF file\n",
    "            \n",
    "            # Calculate SMR descriptors\n",
    "            smr_descriptors = rdMolDescriptors.SMR_VSA_(mol)\n",
    "            \n",
    "            # Extract the number from the file name\n",
    "            file_number = file_name.split(\"_\")[-1].split(\".\")[0]\n",
    "            \n",
    "            # Write the file number and SMR descriptor values to the output file\n",
    "            f.write(f\"{file_number},{smr_descriptors}\\n\")"
   ]
  },
  {
   "cell_type": "markdown",
   "metadata": {},
   "source": [
    "MW (Molecular Weight): MW descriptors simply represent the molecular weight of a molecule, which is the sum of the atomic weights of all atoms in the molecule."
   ]
  },
  {
   "cell_type": "code",
   "execution_count": 10,
   "metadata": {},
   "outputs": [
    {
     "name": "stderr",
     "output_type": "stream",
     "text": [
      "Calculating MW:  66%|██████▌   | 89535/136594 [04:10<02:09, 362.62it/s][16:04:57] WARNING: not removing hydrogen atom with neighbor that has non-tetrahedral stereochemistry\n",
      "Calculating MW:  67%|██████▋   | 91552/136594 [04:16<01:50, 407.89it/s][16:05:03] WARNING: not removing hydrogen atom with neighbor that has non-tetrahedral stereochemistry\n",
      "Calculating MW:  91%|█████████ | 124102/136594 [05:33<00:29, 428.09it/s][16:06:19] WARNING: not removing hydrogen atom with neighbor that has non-tetrahedral stereochemistry\n",
      "Calculating MW: 100%|██████████| 136594/136594 [06:27<00:00, 352.68it/s]\n"
     ]
    }
   ],
   "source": [
    "folder_path = \"/home/antonio98/Desktop/Projeto_em_Bioquímica/Training_set\"\n",
    "\n",
    "# Output file to save the calculated MW descriptors\n",
    "output_file = \"/home/antonio98/Desktop/Projeto_em_Bioquímica/MW_descriptors.csv\"\n",
    "\n",
    "# Open the output file in write mode\n",
    "with open(output_file, 'w') as f:\n",
    "    # Write the header containing column names\n",
    "    f.write(\"File,MW\\n\")\n",
    "    \n",
    "    # Iterate over each SDF file in the folder\n",
    "    for file_name in tqdm(os.listdir(folder_path), desc=\"Calculating MW\"):\n",
    "        if file_name.endswith(\".sdf\"):\n",
    "            file_path = os.path.join(folder_path, file_name)\n",
    "            \n",
    "            # Read the SDF file and retrieve the molecule\n",
    "            suppl = Chem.SDMolSupplier(file_path)\n",
    "            mol = suppl[0]  # Assuming there is only one molecule in each SDF file\n",
    "            \n",
    "            # Calculate MW descriptor\n",
    "            mw_descriptor = Descriptors.MolWt(mol)\n",
    "            \n",
    "            # Extract the number from the file name\n",
    "            file_number = file_name.split(\"_\")[-1].split(\".\")[0]\n",
    "            \n",
    "            # Write the file number and MW descriptor value to the output file\n",
    "            f.write(f\"{file_number},{mw_descriptor}\\n\")"
   ]
  }
 ],
 "metadata": {
  "kernelspec": {
   "display_name": "Python 3",
   "language": "python",
   "name": "python3"
  },
  "language_info": {
   "codemirror_mode": {
    "name": "ipython",
    "version": 3
   },
   "file_extension": ".py",
   "mimetype": "text/x-python",
   "name": "python",
   "nbconvert_exporter": "python",
   "pygments_lexer": "ipython3",
   "version": "3.10.12"
  }
 },
 "nbformat": 4,
 "nbformat_minor": 2
}
